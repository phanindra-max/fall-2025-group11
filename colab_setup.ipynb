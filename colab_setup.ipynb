{
  "cells": [
    {
      "cell_type": "markdown",
      "metadata": {},
      "source": [
        "# 🚀 RLGSSL - Google Colab Setup\n",
        "\n",
        "- **RLGSSL** - Reinforcement Learning-Guided Semi-Supervised Learning\n",
        "\n",
        "---\n"
      ]
    },
    {
      "cell_type": "markdown",
      "metadata": {},
      "source": [
        "## 🔧 Environment Setup\n"
      ]
    },
    {
      "cell_type": "code",
      "execution_count": null,
      "metadata": {},
      "outputs": [],
      "source": [
        "# Check if GPU is available\n",
        "import torch\n",
        "print(f\"CUDA available: {torch.cuda.is_available()}\")\n",
        "if torch.cuda.is_available():\n",
        "    print(f\"CUDA device: {torch.cuda.get_device_name(0)}\")\n",
        "    print(f\"CUDA version: {torch.version.cuda}\")\n",
        "else:\n",
        "    print(\"⚠️ No GPU available. Enable GPU in Runtime > Change runtime type > Hardware accelerator > GPU\")\n"
      ]
    },
    {
      "cell_type": "code",
      "execution_count": null,
      "metadata": {},
      "outputs": [],
      "source": [
        "# System information\n",
        "import sys\n",
        "import os\n",
        "print(f\"Python version: {sys.version}\")\n",
        "print(f\"Current working directory: {os.getcwd()}\")\n",
        "print(f\"Available disk space: {os.statvfs('/').f_bavail * os.statvfs('/').f_frsize / (1024**3):.2f} GB\")\n"
      ]
    },
    {
      "cell_type": "markdown",
      "metadata": {},
      "source": [
        "## 📥 Method 1: Clone from GitHub (Recommended)\n"
      ]
    },
    {
      "cell_type": "code",
      "execution_count": null,
      "metadata": {},
      "outputs": [],
      "source": [
        "# Replace 'YOUR_GITHUB_USERNAME' and 'YOUR_REPO_NAME' with your actual values\n",
        "GITHUB_USERNAME = \"YOUR_GITHUB_USERNAME\"  # e.g., \"phani123\"\n",
        "REPO_NAME = \"YOUR_REPO_NAME\"              # e.g., \"capstone-rlgssl\"\n",
        "\n",
        "# Clone the repository\n",
        "!git clone https://github.com/{GITHUB_USERNAME}/{REPO_NAME}.git\n",
        "\n",
        "# Change to the project directory\n",
        "%cd {REPO_NAME}\n",
        "\n",
        "# List contents to verify\n",
        "!ls -la\n"
      ]
    },
    {
      "cell_type": "markdown",
      "metadata": {},
      "source": [
        "## 📦 Install Dependencies\n"
      ]
    },
    {
      "cell_type": "code",
      "execution_count": null,
      "metadata": {},
      "outputs": [],
      "source": [
        "# Install PyTorch with CUDA support (if not already installed)\n",
        "%pip install torch torchvision torchaudio --index-url https://download.pytorch.org/whl/cu118\n"
      ]
    },
    {
      "cell_type": "code",
      "execution_count": null,
      "metadata": {},
      "outputs": [],
      "source": [
        "# Install project requirements\n",
        "import os\n",
        "\n",
        "# For RLGSSL project\n",
        "if os.path.exists('requirements_rlgssl.txt'):\n",
        "    %pip install -r requirements_rlgssl.txt\n",
        "    print(\"✅ RLGSSL requirements installed\")\n",
        "\n",
        "# For general requirements (if exists)\n",
        "if os.path.exists('requirements.txt'):\n",
        "    %pip install -r requirements.txt\n",
        "    print(\"✅ General requirements installed\")\n",
        "\n",
        "# Install additional packages that might be needed\n",
        "%pip install gymnasium[classic-control] pygame\n"
      ]
    },
    {
      "cell_type": "code",
      "execution_count": null,
      "metadata": {},
      "outputs": [],
      "source": [
        "# Verify key packages are installed\n",
        "try:\n",
        "    import torch\n",
        "    import torchvision\n",
        "    import numpy as np\n",
        "    import matplotlib.pyplot as plt\n",
        "    import gymnasium as gym\n",
        "    print(\"✅ All key packages imported successfully\")\n",
        "    print(f\"PyTorch version: {torch.__version__}\")\n",
        "    print(f\"NumPy version: {np.__version__}\")\n",
        "except ImportError as e:\n",
        "    print(f\"❌ Import error: {e}\")\n"
      ]
    },
    {
      "cell_type": "markdown",
      "metadata": {},
      "source": [
        "## 🎯 RLGSSL Demo\n"
      ]
    },
    {
      "cell_type": "code",
      "execution_count": null,
      "metadata": {},
      "outputs": [],
      "source": [
        "# Quick test of RLGSSL implementation\n",
        "import sys\n",
        "import os\n",
        "\n",
        "# Add src directory to path\n",
        "if os.path.exists('src'):\n",
        "    sys.path.append('src')\n",
        "    print(\"✅ Added src directory to Python path\")\n",
        "\n",
        "# Test the demo if available\n",
        "if os.path.exists('src/demo.py'):\n",
        "    print(\"🚀 Running RLGSSL demo...\")\n",
        "    %cd src\n",
        "    !python demo.py\n",
        "    %cd ..\n",
        "else:\n",
        "    print(\"⚠️ demo.py not found. You may need to run experiments manually.\")\n"
      ]
    },
    {
      "cell_type": "markdown",
      "metadata": {},
      "source": [
        "## 💡 Tips & Next Steps\n",
        "\n",
        "### 🚀 To run your experiments:\n",
        "\n",
        "**For RLGSSL:**\n",
        "```python\n",
        "# Quick experiment (reduced epochs for Colab)\n",
        "%cd src\n",
        "!python run_experiments.py --mode quick\n",
        "```\n",
        "\n",
        "### 🔧 Performance Tips for Colab:\n",
        "1. **Enable GPU**: Runtime → Change runtime type → Hardware accelerator → GPU\n",
        "2. **Reduce batch sizes** for memory constraints\n",
        "3. **Use smaller datasets** for quick testing\n",
        "4. **Save checkpoints frequently** to prevent data loss\n",
        "\n",
        "### 📚 Additional Resources:\n",
        "- [Google Colab FAQ](https://research.google.com/colaboratory/faq.html)\n",
        "- [GitHub Integration with Colab](https://colab.research.google.com/github/)\n",
        "- [PyTorch on Colab](https://pytorch.org/tutorials/beginner/colab.html)"
      ]
    }
  ],
  "metadata": {
    "language_info": {
      "name": "python"
    }
  },
  "nbformat": 4,
  "nbformat_minor": 2
}
