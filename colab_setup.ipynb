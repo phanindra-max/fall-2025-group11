{
  "cells": [
    {
      "cell_type": "markdown",
      "metadata": {},
      "source": [
        "# 🚀 RLGSSL - Google Colab Setup (Fixed)\n",
        "\n",
        "This notebook sets up your **Reinforcement Learning-Guided Semi-Supervised Learning (RLGSSL)** project on Google Colab with **device mismatch fixes**.\n",
        "\n",
        "**Project:** **RLGSSL** - Reinforcement Learning-Guided Semi-Supervised Learning for CIFAR-10/100 and SVHN datasets\n",
        "\n",
        "**⚠️ IMPORTANT:** \n",
        "- ✅ **GPU device issues have been FIXED** - tensors now properly moved to GPU\n",
        "- 🚀 **Enable GPU**: Runtime → Change runtime type → Hardware accelerator → GPU\n",
        "- 📊 **Expected Results**: Significant improvement in semi-supervised learning performance\n",
        "\n",
        "---\n"
      ]
    },
    {
      "cell_type": "markdown",
      "metadata": {},
      "source": [
        "## 🔧 Environment Setup\n"
      ]
    },
    {
      "cell_type": "code",
      "execution_count": null,
      "metadata": {},
      "outputs": [],
      "source": [
        "# Check GPU and clear any previous state\n",
        "import torch\n",
        "import gc\n",
        "\n",
        "# Clear any cached memory\n",
        "if torch.cuda.is_available():\n",
        "    torch.cuda.empty_cache()\n",
        "\n",
        "print(f\"CUDA available: {torch.cuda.is_available()}\")\n",
        "if torch.cuda.is_available():\n",
        "    print(f\"CUDA device: {torch.cuda.get_device_name(0)}\")\n",
        "    print(f\"CUDA version: {torch.version.cuda}\")\n",
        "    print(f\"GPU memory: {torch.cuda.get_device_properties(0).total_memory / 1e9:.1f} GB\")\n",
        "    print(f\"Memory allocated: {torch.cuda.memory_allocated() / 1e9:.2f} GB\")\n",
        "else:\n",
        "    print(\"⚠️ No GPU available. Enable GPU in Runtime > Change runtime type > Hardware accelerator > GPU\")\n"
      ]
    },
    {
      "cell_type": "code",
      "execution_count": null,
      "metadata": {},
      "outputs": [],
      "source": [
        "# System information\n",
        "import sys\n",
        "import os\n",
        "print(f\"Python version: {sys.version}\")\n",
        "print(f\"Current working directory: {os.getcwd()}\")\n",
        "print(f\"Available disk space: {os.statvfs('/').f_bavail * os.statvfs('/').f_frsize / (1024**3):.2f} GB\")\n"
      ]
    },
    {
      "cell_type": "markdown",
      "metadata": {},
      "source": [
        "## 📥 Clone from GitHub\n",
        "\n",
        "**Replace the values below with your actual GitHub details:**\n"
      ]
    },
    {
      "cell_type": "code",
      "execution_count": null,
      "metadata": {},
      "outputs": [],
      "source": [
        "# Replace with your actual GitHub details\n",
        "GITHUB_USERNAME = \"phanindra-max\"  # Replace with your username\n",
        "REPO_NAME = \"fall-2025-group11\"            # Replace with your repo name\n",
        "\n",
        "# Clone the repository\n",
        "!git clone https://github.com/{GITHUB_USERNAME}/{REPO_NAME}.git\n",
        "\n",
        "# Change to the project directory  \n",
        "%cd {REPO_NAME}\n",
        "\n",
        "# List contents to verify\n",
        "!ls -la\n"
      ]
    },
    {
      "cell_type": "markdown",
      "metadata": {},
      "source": [
        "## 📦 Install Dependencies\n"
      ]
    },
    {
      "cell_type": "code",
      "execution_count": null,
      "metadata": {},
      "outputs": [],
      "source": [
        "# Install project requirements\n",
        "import os\n",
        "\n",
        "# For RLGSSL project\n",
        "if os.path.exists('requirements_rlgssl.txt'):\n",
        "    %pip install -r requirements_rlgssl.txt\n",
        "    print(\"✅ RLGSSL requirements installed\")\n",
        "else:\n",
        "    print(\"⚠️ requirements_rlgssl.txt not found\")\n",
        "\n",
        "# Install additional packages for visualization and Colab compatibility\n",
        "%pip install plotly ipywidgets\n"
      ]
    },
    {
      "cell_type": "code",
      "execution_count": null,
      "metadata": {},
      "outputs": [],
      "source": [
        "# Verify key packages are installed\n",
        "try:\n",
        "    import torch\n",
        "    import torchvision \n",
        "    import numpy as np\n",
        "    import matplotlib.pyplot as plt\n",
        "    print(\"✅ All key packages imported successfully\")\n",
        "    print(f\"PyTorch version: {torch.__version__}\")\n",
        "    print(f\"NumPy version: {np.__version__}\")\n",
        "    print(f\"Device available: {'GPU' if torch.cuda.is_available() else 'CPU'}\")\n",
        "except ImportError as e:\n",
        "    print(f\"❌ Import error: {e}\")\n"
      ]
    },
    {
      "cell_type": "markdown",
      "metadata": {},
      "source": [
        "## 🎯 RLGSSL Demo (Fixed for GPU)\n",
        "\n",
        "**This will test all RLGSSL components with proper GPU device handling.**\n"
      ]
    },
    {
      "cell_type": "code",
      "execution_count": null,
      "metadata": {},
      "outputs": [],
      "source": [
        "# Quick test of RLGSSL implementation (FIXED for device compatibility)\n",
        "import sys\n",
        "import os\n",
        "\n",
        "# Add src directory to path\n",
        "if os.path.exists('src'):\n",
        "    sys.path.append('src')\n",
        "    print(\"✅ Added src directory to Python path\")\n",
        "\n",
        "# Test the demo if available\n",
        "if os.path.exists('src/demo.py'):\n",
        "    print(\"🚀 Running RLGSSL demo with GPU device fixes...\")\n",
        "    %cd src\n",
        "    !python demo.py\n",
        "    %cd ..\n",
        "else:\n",
        "    print(\"⚠️ demo.py not found. You may need to run experiments manually.\")\n"
      ]
    },
    {
      "cell_type": "markdown",
      "metadata": {},
      "source": [
        "## 🧪 RLGSSL Quick Experiment\n",
        "\n",
        "**Run a quick RLGSSL experiment (optimized for Colab with reduced epochs).**\n"
      ]
    },
    {
      "cell_type": "code",
      "execution_count": null,
      "metadata": {},
      "outputs": [],
      "source": [
        "# Run a quick RLGSSL experiment (reduced epochs for Colab)\n",
        "if os.path.exists('src/run_experiments.py'):\n",
        "    print(\"🧪 Running quick RLGSSL experiment...\")\n",
        "    print(\"This may take 10-15 minutes with GPU enabled.\")\n",
        "    %cd src\n",
        "    !python run_experiments.py --mode quick\n",
        "    %cd ..\n",
        "else:\n",
        "    print(\"⚠️ run_experiments.py not found\")\n"
      ]
    },
    {
      "cell_type": "markdown",
      "metadata": {},
      "source": [
        "# 🚀 RLGSSL - Google Colab Setup\n",
        "\n",
        "- **RLGSSL** - Reinforcement Learning-Guided Semi-Supervised Learning\n",
        "\n",
        "---\n"
      ]
    },
    {
      "cell_type": "markdown",
      "metadata": {},
      "source": [
        "## 🔧 Environment Setup\n"
      ]
    },
    {
      "cell_type": "code",
      "execution_count": null,
      "metadata": {},
      "outputs": [],
      "source": [
        "# Check if GPU is available\n",
        "import torch\n",
        "print(f\"CUDA available: {torch.cuda.is_available()}\")\n",
        "if torch.cuda.is_available():\n",
        "    print(f\"CUDA device: {torch.cuda.get_device_name(0)}\")\n",
        "    print(f\"CUDA version: {torch.version.cuda}\")\n",
        "else:\n",
        "    print(\"⚠️ No GPU available. Enable GPU in Runtime > Change runtime type > Hardware accelerator > GPU\")\n"
      ]
    },
    {
      "cell_type": "code",
      "execution_count": null,
      "metadata": {},
      "outputs": [],
      "source": [
        "# System information\n",
        "import sys\n",
        "import os\n",
        "print(f\"Python version: {sys.version}\")\n",
        "print(f\"Current working directory: {os.getcwd()}\")\n",
        "print(f\"Available disk space: {os.statvfs('/').f_bavail * os.statvfs('/').f_frsize / (1024**3):.2f} GB\")\n"
      ]
    },
    {
      "cell_type": "markdown",
      "metadata": {},
      "source": [
        "## 📥 Method 1: Clone from GitHub (Recommended)\n"
      ]
    },
    {
      "cell_type": "code",
      "execution_count": null,
      "metadata": {},
      "outputs": [],
      "source": [
        "# Replace 'YOUR_GITHUB_USERNAME' and 'YOUR_REPO_NAME' with your actual values\n",
        "GITHUB_USERNAME = \"YOUR_GITHUB_USERNAME\"  # e.g., \"phani123\"\n",
        "REPO_NAME = \"YOUR_REPO_NAME\"              # e.g., \"capstone-rlgssl\"\n",
        "\n",
        "# Clone the repository\n",
        "!git clone --branch clean-RLGSSL https://github.com/{GITHUB_USERNAME}/{REPO_NAME}.git\n",
        "\n",
        "# Change to the project directory\n",
        "%cd {REPO_NAME}\n",
        "\n",
        "# List contents to verify\n",
        "!ls -la\n"
      ]
    },
    {
      "cell_type": "markdown",
      "metadata": {},
      "source": [
        "## 📦 Install Dependencies\n"
      ]
    },
    {
      "cell_type": "code",
      "execution_count": null,
      "metadata": {},
      "outputs": [],
      "source": [
        "# Install PyTorch with CUDA support (if not already installed)\n",
        "%pip install torch torchvision torchaudio --index-url https://download.pytorch.org/whl/cu118\n"
      ]
    },
    {
      "cell_type": "code",
      "execution_count": null,
      "metadata": {},
      "outputs": [],
      "source": [
        "# Install project requirements\n",
        "import os\n",
        "\n",
        "# For RLGSSL project\n",
        "if os.path.exists('requirements_rlgssl.txt'):\n",
        "    %pip install -r requirements_rlgssl.txt\n",
        "    print(\"✅ RLGSSL requirements installed\")\n",
        "\n",
        "# For general requirements (if exists)\n",
        "if os.path.exists('requirements.txt'):\n",
        "    %pip install -r requirements.txt\n",
        "    print(\"✅ General requirements installed\")\n",
        "\n",
        "# Install additional packages that might be needed\n",
        "%pip install gymnasium[classic-control] pygame\n"
      ]
    },
    {
      "cell_type": "code",
      "execution_count": null,
      "metadata": {},
      "outputs": [],
      "source": [
        "# Verify key packages are installed\n",
        "try:\n",
        "    import torch\n",
        "    import torchvision\n",
        "    import numpy as np\n",
        "    import matplotlib.pyplot as plt\n",
        "    import gymnasium as gym\n",
        "    print(\"✅ All key packages imported successfully\")\n",
        "    print(f\"PyTorch version: {torch.__version__}\")\n",
        "    print(f\"NumPy version: {np.__version__}\")\n",
        "except ImportError as e:\n",
        "    print(f\"❌ Import error: {e}\")\n"
      ]
    },
    {
      "cell_type": "markdown",
      "metadata": {},
      "source": [
        "## 🎯 RLGSSL Demo\n"
      ]
    },
    {
      "cell_type": "code",
      "execution_count": null,
      "metadata": {},
      "outputs": [],
      "source": [
        "# Quick test of RLGSSL implementation\n",
        "import sys\n",
        "import os\n",
        "\n",
        "# Add src directory to path\n",
        "if os.path.exists('src'):\n",
        "    sys.path.append('src')\n",
        "    print(\"✅ Added src directory to Python path\")\n",
        "\n",
        "# Test the demo if available\n",
        "if os.path.exists('src/demo.py'):\n",
        "    print(\"🚀 Running RLGSSL demo...\")\n",
        "    %cd src\n",
        "    !python demo.py\n",
        "    %cd ..\n",
        "else:\n",
        "    print(\"⚠️ demo.py not found. You may need to run experiments manually.\")\n"
      ]
    },
    {
      "cell_type": "markdown",
      "metadata": {},
      "source": [
        "## 💡 RLGSSL Tips & Next Steps\n",
        "\n",
        "### 🚀 To run your RLGSSL experiments:\n",
        "\n",
        "**Quick Experiment (Colab-optimized):**\n",
        "```python\n",
        "# Quick experiment (reduced epochs for Colab)\n",
        "%cd src\n",
        "!python run_experiments.py --mode quick\n",
        "```\n",
        "\n",
        "**Single Experiment:**\n",
        "```python\n",
        "# Single CIFAR-10 experiment with 1000 labeled samples\n",
        "%cd src\n",
        "!python run_experiments.py --mode single --dataset cifar10 --architecture cnn13 --num_labeled 1000\n",
        "```\n",
        "\n",
        "**Custom Configuration:**\n",
        "```python\n",
        "from train_rlgssl import RLGSSLConfig, RLGSSLTrainer\n",
        "\n",
        "config = RLGSSLConfig()\n",
        "config.dataset_name = 'cifar10'\n",
        "config.num_labeled = 1000\n",
        "config.architecture = 'cnn13'\n",
        "config.warmup_epochs = 5    # Reduced for Colab\n",
        "config.rlgssl_epochs = 10   # Reduced for Colab\n",
        "config.batch_size = 64      # Memory-optimized\n",
        "\n",
        "trainer = RLGSSLTrainer(config)\n",
        "results = trainer.train()\n",
        "```\n",
        "\n",
        "### 🔧 Performance Tips for Colab:\n",
        "1. **Enable GPU**: Runtime → Change runtime type → Hardware accelerator → GPU\n",
        "2. **Reduce batch sizes** for memory constraints (batch_size = 64 or 32)\n",
        "3. **Use smaller epochs** for quick testing (warmup=5, rlgssl=10)\n",
        "4. **Save checkpoints frequently** to prevent data loss\n",
        "5. **Monitor GPU memory**: `torch.cuda.memory_allocated()`\n",
        "\n",
        "### 📊 Expected RLGSSL Results:\n",
        "- **Quick Demo**: ~2-3 minutes\n",
        "- **Quick Experiment**: ~10-15 minutes\n",
        "- **Accuracy Improvement**: Significant boost over supervised baseline\n",
        "- **Memory Usage**: ~4-6 GB GPU memory with optimized settings\n"
      ]
    }
  ],
  "metadata": {
    "language_info": {
      "name": "python"
    }
  },
  "nbformat": 4,
  "nbformat_minor": 2
}
