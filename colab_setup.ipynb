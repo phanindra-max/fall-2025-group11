{
  "cells": [
    {
      "cell_type": "markdown",
      "metadata": {},
      "source": [
        "# 🚀 RLGSSL - Google Colab Setup\n",
        "\n",
        "**Project:** **RLGSSL** - Reinforcement Learning-Guided Semi-Supervised Learning for CIFAR-10 dataset\n",
        "\n"
      ]
    },
    {
      "cell_type": "markdown",
      "metadata": {},
      "source": [
        "## 🔧 Environment Setup\n"
      ]
    },
    {
      "cell_type": "code",
      "execution_count": null,
      "metadata": {},
      "outputs": [],
      "source": [
        "# Check GPU and clear any previous state\n",
        "import torch\n",
        "import gc\n",
        "\n",
        "# Clear any cached memory\n",
        "if torch.cuda.is_available():\n",
        "    torch.cuda.empty_cache()\n",
        "\n",
        "print(f\"CUDA available: {torch.cuda.is_available()}\")\n",
        "if torch.cuda.is_available():\n",
        "    print(f\"CUDA device: {torch.cuda.get_device_name(0)}\")\n",
        "    print(f\"CUDA version: {torch.version.cuda}\")\n",
        "    print(f\"GPU memory: {torch.cuda.get_device_properties(0).total_memory / 1e9:.1f} GB\")\n",
        "    print(f\"Memory allocated: {torch.cuda.memory_allocated() / 1e9:.2f} GB\")\n",
        "else:\n",
        "    print(\"⚠️ No GPU available. Enable GPU in Runtime > Change runtime type > Hardware accelerator > GPU\")\n"
      ]
    },
    {
      "cell_type": "code",
      "execution_count": null,
      "metadata": {},
      "outputs": [],
      "source": [
        "# System information\n",
        "import sys\n",
        "import os\n",
        "print(f\"Python version: {sys.version}\")\n",
        "print(f\"Current working directory: {os.getcwd()}\")\n",
        "print(f\"Available disk space: {os.statvfs('/').f_bavail * os.statvfs('/').f_frsize / (1024**3):.2f} GB\")\n"
      ]
    },
    {
      "cell_type": "markdown",
      "metadata": {},
      "source": [
        "## 📥 Clone from GitHub"
      ]
    },
    {
      "cell_type": "code",
      "execution_count": null,
      "metadata": {},
      "outputs": [],
      "source": [
        "# Replace with your actual GitHub details\n",
        "GITHUB_USERNAME = \"phanindra-max\"  # Replace with your username\n",
        "REPO_NAME = \"fall-2025-group11\"            # Replace with your repo name\n",
        "\n",
        "# Clone the repository\n",
        "!git clone https://github.com/{GITHUB_USERNAME}/{REPO_NAME}.git\n",
        "\n",
        "# Change to the project directory  \n",
        "%cd {REPO_NAME}\n",
        "\n",
        "# List contents to verify\n",
        "!ls -la\n"
      ]
    },
    {
      "cell_type": "markdown",
      "metadata": {},
      "source": [
        "## 📦 Install Dependencies\n"
      ]
    },
    {
      "cell_type": "code",
      "execution_count": null,
      "metadata": {},
      "outputs": [],
      "source": [
        "# Install project requirements\n",
        "import os\n",
        "\n",
        "# For RLGSSL project\n",
        "if os.path.exists('requirements_rlgssl.txt'):\n",
        "    %pip install -r requirements_rlgssl.txt\n",
        "    print(\"✅ RLGSSL requirements installed\")\n",
        "else:\n",
        "    print(\"⚠️ requirements_rlgssl.txt not found\")\n",
        "\n",
        "# Install additional packages for visualization and Colab compatibility\n",
        "%pip install plotly ipywidgets\n"
      ]
    },
    {
      "cell_type": "code",
      "execution_count": null,
      "metadata": {},
      "outputs": [],
      "source": [
        "# Verify key packages are installed\n",
        "try:\n",
        "    import torch\n",
        "    import torchvision \n",
        "    import numpy as np\n",
        "    import matplotlib.pyplot as plt\n",
        "    print(\"✅ All key packages imported successfully\")\n",
        "    print(f\"PyTorch version: {torch.__version__}\")\n",
        "    print(f\"NumPy version: {np.__version__}\")\n",
        "    print(f\"Device available: {'GPU' if torch.cuda.is_available() else 'CPU'}\")\n",
        "except ImportError as e:\n",
        "    print(f\"❌ Import error: {e}\")\n"
      ]
    },
    {
      "cell_type": "markdown",
      "metadata": {},
      "source": [
        "### Quick test"
      ]
    },
    {
      "cell_type": "code",
      "execution_count": null,
      "metadata": {},
      "outputs": [],
      "source": [
        "# Quick test of RLGSSL implementation\n",
        "import sys\n",
        "import os\n",
        "\n",
        "# Add src directory to path\n",
        "if os.path.exists('src'):\n",
        "    sys.path.append('src')\n",
        "    print(\"✅ Added src directory to Python path\")\n",
        "\n",
        "# Test the demo if available\n",
        "if os.path.exists('src/demo.py'):\n",
        "    print(\"🚀 Running RLGSSL demo...\")\n",
        "    %cd src\n",
        "    !python demo.py\n",
        "    %cd ..\n",
        "else:\n",
        "    print(\"⚠️ demo.py not found. You may need to run experiments manually.\")\n"
      ]
    }
  ],
  "metadata": {
    "language_info": {
      "name": "python"
    }
  },
  "nbformat": 4,
  "nbformat_minor": 2
}
